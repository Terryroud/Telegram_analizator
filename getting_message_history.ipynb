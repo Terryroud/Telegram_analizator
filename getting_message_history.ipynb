{
  "nbformat": 4,
  "nbformat_minor": 0,
  "metadata": {
    "colab": {
      "provenance": []
    },
    "kernelspec": {
      "name": "python3",
      "display_name": "Python 3"
    },
    "language_info": {
      "name": "python"
    }
  },
  "cells": [
    {
      "cell_type": "code",
      "source": [
        "!pip install telethon"
      ],
      "metadata": {
        "colab": {
          "base_uri": "https://localhost:8080/"
        },
        "id": "nio9xrqq95kc",
        "outputId": "7f41cd11-a8ea-4291-ce7d-ed5b3e3d7276"
      },
      "execution_count": 1,
      "outputs": [
        {
          "output_type": "stream",
          "name": "stdout",
          "text": [
            "Requirement already satisfied: telethon in /usr/local/lib/python3.10/dist-packages (1.34.0)\n",
            "Requirement already satisfied: pyaes in /usr/local/lib/python3.10/dist-packages (from telethon) (1.6.1)\n",
            "Requirement already satisfied: rsa in /usr/local/lib/python3.10/dist-packages (from telethon) (4.9)\n",
            "Requirement already satisfied: pyasn1>=0.1.3 in /usr/local/lib/python3.10/dist-packages (from rsa->telethon) (0.5.1)\n"
          ]
        }
      ]
    },
    {
      "cell_type": "code",
      "source": [
        "import configparser\n",
        "import json\n",
        "\n",
        "from telethon.sync import TelegramClient\n",
        "from telethon import connection\n",
        "\n",
        "# для корректного переноса времени сообщений в json\n",
        "from datetime import date, datetime\n",
        "\n",
        "# классы для работы с каналами\n",
        "from telethon.tl.functions.channels import GetParticipantsRequest\n",
        "from telethon.tl.types import ChannelParticipantsSearch\n",
        "\n",
        "# класс для работы с сообщениями\n",
        "from telethon.tl.functions.messages import GetHistoryRequest"
      ],
      "metadata": {
        "id": "PmMxpJWfg4eF"
      },
      "execution_count": 2,
      "outputs": []
    },
    {
      "cell_type": "code",
      "source": [
        "# Считываем учетные данные\n",
        "# config = configparser.ConfigParser()\n",
        "# config.read(\"config.ini\")\n",
        "\n",
        "# Присваиваем значения внутренним переменным\n",
        "api_id = 28346692\n",
        "api_hash = 'df748fc21f36338ad6aeff4adb3c7f96'\n",
        "username = '79393419148'"
      ],
      "metadata": {
        "id": "-1kElNUahXdD"
      },
      "execution_count": 3,
      "outputs": []
    },
    {
      "cell_type": "code",
      "source": [
        "client = TelegramClient(username, api_id, api_hash)\n",
        "\n",
        "client.start()\n",
        "# proxy = (proxy_server, proxy_port, proxy_key)\n",
        "\n",
        "# client = TelegramClient(username, api_id, api_hash,\n",
        "#     connection=connection.ConnectionTcpMTProxyRandomizedIntermediate,\n",
        "#     proxy=proxy)"
      ],
      "metadata": {
        "colab": {
          "base_uri": "https://localhost:8080/"
        },
        "id": "iHLYVLzXha-c",
        "outputId": "170fe1a0-7ad9-44d6-9524-297226966eaa"
      },
      "execution_count": 4,
      "outputs": [
        {
          "output_type": "execute_result",
          "data": {
            "text/plain": [
              "<coroutine object AuthMethods._start at 0x7ec17dc3a2d0>"
            ]
          },
          "metadata": {},
          "execution_count": 4
        }
      ]
    },
    {
      "cell_type": "code",
      "source": [
        "!pip install nest-asyncio"
      ],
      "metadata": {
        "colab": {
          "base_uri": "https://localhost:8080/"
        },
        "id": "HVMaK4wWnHSU",
        "outputId": "691c41e7-8d75-4113-bf5c-d3e8517a3898"
      },
      "execution_count": 6,
      "outputs": [
        {
          "output_type": "stream",
          "name": "stdout",
          "text": [
            "Requirement already satisfied: nest-asyncio in /usr/local/lib/python3.10/dist-packages (1.6.0)\n"
          ]
        }
      ]
    },
    {
      "cell_type": "code",
      "source": [
        "import nest_asyncio\n",
        "nest_asyncio.apply()"
      ],
      "metadata": {
        "id": "4XvvEA2SnJHy"
      },
      "execution_count": 5,
      "outputs": []
    },
    {
      "cell_type": "code",
      "source": [
        "async def dump_all_messages(channel):\n",
        "\t\"\"\"Записывает json-файл с информацией о всех сообщениях канала/чата\"\"\"\n",
        "\toffset_msg = 0    # номер записи, с которой начинается считывание\n",
        "\tlimit_msg = 100   # максимальное число записей, передаваемых за один раз\n",
        "\n",
        "\tall_messages = []   # список всех сообщений\n",
        "\ttotal_messages = 0\n",
        "\ttotal_count_limit = 0  # поменяйте это значение, если вам нужны не все сообщения\n",
        "\n",
        "\tclass DateTimeEncoder(json.JSONEncoder):\n",
        "\t\t'''Класс для сериализации записи дат в JSON'''\n",
        "\t\tdef default(self, o):\n",
        "\t\t\tif isinstance(o, datetime):\n",
        "\t\t\t\treturn o.isoformat()\n",
        "\t\t\tif isinstance(o, bytes):\n",
        "\t\t\t\treturn list(o)\n",
        "\t\t\treturn json.JSONEncoder.default(self, o)\n",
        "\n",
        "\twhile True:\n",
        "\t\thistory = await client(GetHistoryRequest(\n",
        "\t\t\tpeer=channel,\n",
        "\t\t\toffset_id=offset_msg,\n",
        "\t\t\toffset_date=None, add_offset=0,\n",
        "\t\t\tlimit=limit_msg, max_id=0, min_id=0,\n",
        "\t\t\thash=0))\n",
        "\t\tif not history.messages:\n",
        "\t\t\tbreak\n",
        "\t\tmessages = history.messages\n",
        "\n",
        "\t\tfor message in messages:\n",
        "\t\t\tall_messages.append(message.to_dict())\n",
        "\n",
        "\t\toffset_msg = messages[len(messages) - 1].id\n",
        "\t\ttotal_messages = len(all_messages)\n",
        "\t\tif total_count_limit != 0 and total_messages >= total_count_limit:\n",
        "\t\t\tbreak\n",
        "\n",
        "\twith open('channel_messages.json', 'w', encoding='utf8') as outfile:\n",
        "\t\t json.dump(all_messages, outfile, ensure_ascii=False, cls=DateTimeEncoder)\n"
      ],
      "metadata": {
        "id": "VptPN5sXiLmp"
      },
      "execution_count": 7,
      "outputs": []
    },
    {
      "cell_type": "code",
      "source": [
        "async def main():\n",
        "\turl = input(\"Введите ссылку на канал или чат: \")\n",
        "\tchannel = await client.get_entity(url)\n",
        "\tawait dump_all_messages(channel)"
      ],
      "metadata": {
        "id": "svMwwxw8heUS"
      },
      "execution_count": 8,
      "outputs": []
    },
    {
      "cell_type": "code",
      "source": [
        "async with client:\n",
        "\tclient.loop.run_until_complete(main())"
      ],
      "metadata": {
        "colab": {
          "base_uri": "https://localhost:8080/"
        },
        "id": "14B6BfIsiIsj",
        "outputId": "191bbf73-8177-4354-8175-435632105029"
      },
      "execution_count": 9,
      "outputs": [
        {
          "name": "stdout",
          "output_type": "stream",
          "text": [
            "Введите ссылку на канал или чат: https://t.me/orethana\n"
          ]
        }
      ]
    }
  ]
}